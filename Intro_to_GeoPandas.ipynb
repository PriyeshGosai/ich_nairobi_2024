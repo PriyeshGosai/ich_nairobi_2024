{
 "cells": [
  {
   "cell_type": "markdown",
   "id": "18725f06-9dcd-4b99-b673-4b920c86b05f",
   "metadata": {},
   "source": [
    "# Introduction to GeoPandas"
   ]
  },
  {
   "cell_type": "markdown",
   "id": "983583cf-dc61-4c63-96d9-1a615563ff02",
   "metadata": {},
   "source": [
    "## Outline\n",
    "\n",
    "---\n",
    "\n",
    "- What is GeoPandas\n",
    "- Exercises"
   ]
  },
  {
   "cell_type": "markdown",
   "id": "62424ba8-6a29-4261-a87a-8c81b2bb5af6",
   "metadata": {},
   "source": [
    "## What is GeoPandas\n",
    "---\n",
    "\n",
    "GeoPandas extends the functionalities of Pandas to geospatial data, which is time-based data that is related to a location on the surface of Earth."
   ]
  },
  {
   "cell_type": "markdown",
   "id": "332634da-9ac6-43af-9c99-e8a6121f88ce",
   "metadata": {},
   "source": [
    "### How to import GeoPandas"
   ]
  },
  {
   "cell_type": "code",
   "execution_count": 1,
   "id": "190e18f1",
   "metadata": {},
   "outputs": [
    {
     "name": "stdout",
     "output_type": "stream",
     "text": [
      "The history saving thread hit an unexpected error (OperationalError('attempt to write a readonly database')).History will not be written to the database.\n",
      "Requirement already satisfied: geopandas in /opt/anaconda3/envs/pypsa-earth/lib/python3.10/site-packages (0.14.3)\n",
      "Requirement already satisfied: fiona>=1.8.21 in /opt/anaconda3/envs/pypsa-earth/lib/python3.10/site-packages (from geopandas) (1.9.6)\n",
      "Requirement already satisfied: packaging in /opt/anaconda3/envs/pypsa-earth/lib/python3.10/site-packages (from geopandas) (24.1)\n",
      "Requirement already satisfied: pandas>=1.4.0 in /opt/anaconda3/envs/pypsa-earth/lib/python3.10/site-packages (from geopandas) (2.2.2)\n",
      "Requirement already satisfied: pyproj>=3.3.0 in /opt/anaconda3/envs/pypsa-earth/lib/python3.10/site-packages (from geopandas) (3.6.1)\n",
      "Requirement already satisfied: shapely>=1.8.0 in /opt/anaconda3/envs/pypsa-earth/lib/python3.10/site-packages (from geopandas) (2.0.3)\n",
      "Requirement already satisfied: attrs>=19.2.0 in /opt/anaconda3/envs/pypsa-earth/lib/python3.10/site-packages (from fiona>=1.8.21->geopandas) (23.2.0)\n",
      "Requirement already satisfied: click~=8.0 in /opt/anaconda3/envs/pypsa-earth/lib/python3.10/site-packages (from fiona>=1.8.21->geopandas) (8.1.7)\n",
      "Requirement already satisfied: click-plugins>=1.0 in /opt/anaconda3/envs/pypsa-earth/lib/python3.10/site-packages (from fiona>=1.8.21->geopandas) (1.1.1)\n",
      "Requirement already satisfied: cligj>=0.5 in /opt/anaconda3/envs/pypsa-earth/lib/python3.10/site-packages (from fiona>=1.8.21->geopandas) (0.7.2)\n",
      "Requirement already satisfied: six in /opt/anaconda3/envs/pypsa-earth/lib/python3.10/site-packages (from fiona>=1.8.21->geopandas) (1.16.0)\n",
      "Requirement already satisfied: numpy>=1.22.4 in /opt/anaconda3/envs/pypsa-earth/lib/python3.10/site-packages (from pandas>=1.4.0->geopandas) (1.26.4)\n",
      "Requirement already satisfied: python-dateutil>=2.8.2 in /opt/anaconda3/envs/pypsa-earth/lib/python3.10/site-packages (from pandas>=1.4.0->geopandas) (2.9.0)\n",
      "Requirement already satisfied: pytz>=2020.1 in /opt/anaconda3/envs/pypsa-earth/lib/python3.10/site-packages (from pandas>=1.4.0->geopandas) (2024.1)\n",
      "Requirement already satisfied: tzdata>=2022.7 in /opt/anaconda3/envs/pypsa-earth/lib/python3.10/site-packages (from pandas>=1.4.0->geopandas) (2024.1)\n",
      "Requirement already satisfied: certifi in /opt/anaconda3/envs/pypsa-earth/lib/python3.10/site-packages (from pyproj>=3.3.0->geopandas) (2024.6.2)\n"
     ]
    }
   ],
   "source": [
    "!pip install geopandas"
   ]
  },
  {
   "cell_type": "code",
   "execution_count": 3,
   "id": "335cf65d-6f3f-46fb-8382-c4107530c29a",
   "metadata": {},
   "outputs": [],
   "source": [
    "import geopandas as gpd"
   ]
  },
  {
   "cell_type": "markdown",
   "id": "ece7f11d-2778-47f9-b385-efc13dbfc6db",
   "metadata": {},
   "source": [
    "### Data structure\n",
    "\n",
    "The basic data structure provided by GeoPandas are `GeoSeries` and `GeoDataFrame`. A `GeoDataFrame` is a subclass of Pandas `DataFrame`, that can store geometry columns and perform spatial operations. The basic structure of `GeoDataFrame` is shown below\n",
    "\n",
    "<img src=\"img/geodataframe.png\" width=\"500\">"
   ]
  },
  {
   "cell_type": "markdown",
   "id": "7c6ffdca-4f1a-4c9e-a02f-93a97480d78a",
   "metadata": {},
   "source": [
    "There are two main `models` (i.e. a simplified version of the represented objects) for storing geospatial data\n",
    "- vector\n",
    "- raster\n",
    "\n",
    "#### Vector\n",
    "\n",
    "A `vector` data model stores locations as discrete geometric objects. The ones available are shown in the image below taken from this [link](https://r-spatial.org/book/03-Geometries.html). For example, a `POINT()` is represented by a longitude and latitude coordinate pair, whereas a `POLYGON` is a set of `POINT()` that delimit a closed area.\n",
    "\n",
    "<img src=\"img/geometry.png\" width=\"500\">\n",
    "\n",
    "Areas are occasionally represented with a `centroid`, which is the point that is mathematically equidistant from all points of the area.\n",
    "\n",
    "#### Raster\n",
    "\n",
    "Raster data is instead stored on a grid of pixels. Each pixel encodes the necessary properties that characterize the given area, as elevation or temperature."
   ]
  },
  {
   "cell_type": "markdown",
   "id": "6ce0e35f-14b3-4f07-9488-d389d83454c1",
   "metadata": {},
   "source": [
    "### Working with geospatial information\n",
    "\n",
    "Geospatial information are usually contained in files with format `GeoPackage`, `GeoJSON` or `Shapefile`. Such files can be read in with the command below. The command detects the filetype and reads the data into a `GeoDataFrame`. The file below contains the shapes of the countries that belong to the [Eastern Africa Power Pool](https://eappool.org/)."
   ]
  },
  {
   "cell_type": "code",
   "execution_count": 5,
   "id": "375ed4ee-1aca-4834-aa83-4d681f1ee846",
   "metadata": {},
   "outputs": [
    {
     "data": {
      "text/html": [
       "<div>\n",
       "<style scoped>\n",
       "    .dataframe tbody tr th:only-of-type {\n",
       "        vertical-align: middle;\n",
       "    }\n",
       "\n",
       "    .dataframe tbody tr th {\n",
       "        vertical-align: top;\n",
       "    }\n",
       "\n",
       "    .dataframe thead th {\n",
       "        text-align: right;\n",
       "    }\n",
       "</style>\n",
       "<table border=\"1\" class=\"dataframe\">\n",
       "  <thead>\n",
       "    <tr style=\"text-align: right;\">\n",
       "      <th></th>\n",
       "      <th>name</th>\n",
       "      <th>geometry</th>\n",
       "    </tr>\n",
       "  </thead>\n",
       "  <tbody>\n",
       "    <tr>\n",
       "      <th>0</th>\n",
       "      <td>RW</td>\n",
       "      <td>POLYGON ((29.71332 -2.81759, 29.64864 -2.78703...</td>\n",
       "    </tr>\n",
       "  </tbody>\n",
       "</table>\n",
       "</div>"
      ],
      "text/plain": [
       "  name                                           geometry\n",
       "0   RW  POLYGON ((29.71332 -2.81759, 29.64864 -2.78703..."
      ]
     },
     "execution_count": 5,
     "metadata": {},
     "output_type": "execute_result"
    }
   ],
   "source": [
    "import pathlib\n",
    "file_path = pathlib.Path(pathlib.Path.cwd(), \"shapes\", \"country_shapes.geojson\")\n",
    "country_shapes = gpd.read_file(file_path)\n",
    "country_shapes.head(1)"
   ]
  },
  {
   "cell_type": "markdown",
   "id": "e71a399b-9d79-41c3-83ed-5f3f72e38942",
   "metadata": {},
   "source": [
    "A Coordinate Reference System (CRS) is a framework used to precisely measure locations on the surface of Earth as coordinates. This [website](https://epsg.io/) provides a comparison and further information on the main CRS. The CRS used in the `GeoDataFrame` can be viewed with"
   ]
  },
  {
   "cell_type": "code",
   "execution_count": 24,
   "id": "fabd1b9a-d897-49d9-8beb-87382af64f30",
   "metadata": {},
   "outputs": [
    {
     "data": {
      "text/plain": [
       "<Geographic 2D CRS: EPSG:4326>\n",
       "Name: WGS 84\n",
       "Axis Info [ellipsoidal]:\n",
       "- Lat[north]: Geodetic latitude (degree)\n",
       "- Lon[east]: Geodetic longitude (degree)\n",
       "Area of Use:\n",
       "- name: World.\n",
       "- bounds: (-180.0, -90.0, 180.0, 90.0)\n",
       "Datum: World Geodetic System 1984 ensemble\n",
       "- Ellipsoid: WGS 84\n",
       "- Prime Meridian: Greenwich"
      ]
     },
     "execution_count": 24,
     "metadata": {},
     "output_type": "execute_result"
    }
   ],
   "source": [
    "country_shapes.crs"
   ]
  },
  {
   "cell_type": "markdown",
   "id": "a13cad2e-9ee0-40aa-8b23-ee0a45677942",
   "metadata": {},
   "source": [
    "The snippet below changes (technically speaking `re-projects`) the `GeoDataFrame` content to a different CRS"
   ]
  },
  {
   "cell_type": "code",
   "execution_count": 25,
   "id": "2dfe38d3-c838-45b3-82af-21266c5023e4",
   "metadata": {},
   "outputs": [
    {
     "data": {
      "text/plain": [
       "<Projected CRS: EPSG:3857>\n",
       "Name: WGS 84 / Pseudo-Mercator\n",
       "Axis Info [cartesian]:\n",
       "- X[east]: Easting (metre)\n",
       "- Y[north]: Northing (metre)\n",
       "Area of Use:\n",
       "- name: World between 85.06°S and 85.06°N.\n",
       "- bounds: (-180.0, -85.06, 180.0, 85.06)\n",
       "Coordinate Operation:\n",
       "- name: Popular Visualisation Pseudo-Mercator\n",
       "- method: Popular Visualisation Pseudo Mercator\n",
       "Datum: World Geodetic System 1984 ensemble\n",
       "- Ellipsoid: WGS 84\n",
       "- Prime Meridian: Greenwich"
      ]
     },
     "execution_count": 25,
     "metadata": {},
     "output_type": "execute_result"
    }
   ],
   "source": [
    "#country_shapes = country_shapes.set_index(\"name\")\n",
    "country_shapes = country_shapes.to_crs(3857)\n",
    "country_shapes.crs"
   ]
  },
  {
   "cell_type": "markdown",
   "id": "5477818c-32b9-44dd-a9ac-771a9f5024d2",
   "metadata": {},
   "source": [
    "The snippet below computes the area and the centroid of each country"
   ]
  },
  {
   "cell_type": "code",
   "execution_count": 34,
   "id": "f204031c-8c05-464f-9e29-ab83d7e1d95b",
   "metadata": {},
   "outputs": [],
   "source": [
    "country_shapes[\"area\"] = country_shapes.area\n",
    "country_shapes[\"centroid\"] = country_shapes.centroid"
   ]
  },
  {
   "cell_type": "markdown",
   "id": "9bf1bd5d-8e1b-4704-962f-48f99f6f2d24",
   "metadata": {},
   "source": [
    "To plot the areas"
   ]
  },
  {
   "cell_type": "code",
   "execution_count": 31,
   "id": "df3746ee-a159-4a10-a382-54da5a601311",
   "metadata": {},
   "outputs": [
    {
     "data": {
      "text/plain": [
       "<AxesSubplot:>"
      ]
     },
     "execution_count": 31,
     "metadata": {},
     "output_type": "execute_result"
    },
    {
     "data": {
      "image/png": "[encoded data removed]",
      "text/plain": [
       "<Figure size 640x480 with 2 Axes>"
      ]
     },
     "metadata": {},
     "output_type": "display_data"
    }
   ],
   "source": [
    "country_shapes.plot(\"area\", legend=True)"
   ]
  },
  {
   "cell_type": "markdown",
   "id": "2da4eb21-4ff1-4862-82df-46fd22a3ba93",
   "metadata": {},
   "source": [
    "To plot the centroids instead"
   ]
  },
  {
   "cell_type": "code",
   "execution_count": 36,
   "id": "025d322f-f07a-4be1-a73c-e7b994f73959",
   "metadata": {},
   "outputs": [
    {
     "data": {
      "text/plain": [
       "<AxesSubplot:>"
      ]
     },
     "execution_count": 36,
     "metadata": {},
     "output_type": "execute_result"
    },
    {
     "data": {
      "image/png": "[encoded data removed]",
      "text/plain": [
       "<Figure size 640x480 with 1 Axes>"
      ]
     },
     "metadata": {},
     "output_type": "display_data"
    }
   ],
   "source": [
    "ax = country_shapes[\"geometry\"].plot()\n",
    "country_shapes[\"centroid\"].plot(ax=ax, color=\"black\")"
   ]
  },
  {
   "cell_type": "markdown",
   "id": "939e2a29-ccf7-4a17-9189-822815fa4ac0",
   "metadata": {},
   "source": [
    "Finally it is possible to compute the distances between two centroids. The snippet below computes the distances of all centroids from the one of Ruanda. Finally the code sorts the `GeoDataFrame` in ascending order by the distance. Indeed the centroid of Lybia is the farthest away from the reference one."
   ]
  },
  {
   "cell_type": "code",
   "execution_count": 51,
   "id": "bd182cdc-3acc-4973-b665-1c1ae3f254a8",
   "metadata": {},
   "outputs": [
    {
     "data": {
      "text/html": [
       "<div>\n",
       "<style scoped>\n",
       "    .dataframe tbody tr th:only-of-type {\n",
       "        vertical-align: middle;\n",
       "    }\n",
       "\n",
       "    .dataframe tbody tr th {\n",
       "        vertical-align: top;\n",
       "    }\n",
       "\n",
       "    .dataframe thead th {\n",
       "        text-align: right;\n",
       "    }\n",
       "</style>\n",
       "<table border=\"1\" class=\"dataframe\">\n",
       "  <thead>\n",
       "    <tr style=\"text-align: right;\">\n",
       "      <th></th>\n",
       "      <th>name</th>\n",
       "      <th>geometry</th>\n",
       "      <th>area</th>\n",
       "      <th>centroid</th>\n",
       "      <th>distance</th>\n",
       "    </tr>\n",
       "  </thead>\n",
       "  <tbody>\n",
       "    <tr>\n",
       "      <th>0</th>\n",
       "      <td>RW</td>\n",
       "      <td>POLYGON ((3307671.415 -313779.098, 3300471.047...</td>\n",
       "      <td>2.549226e+10</td>\n",
       "      <td>POINT (3331371.259 -222829.414)</td>\n",
       "      <td>0.000000e+00</td>\n",
       "    </tr>\n",
       "    <tr>\n",
       "      <th>1</th>\n",
       "      <td>BI</td>\n",
       "      <td>POLYGON ((3347951.181 -464888.650, 3344283.903...</td>\n",
       "      <td>2.720861e+10</td>\n",
       "      <td>POINT (3327253.961 -375160.842)</td>\n",
       "      <td>1.523871e+05</td>\n",
       "    </tr>\n",
       "    <tr>\n",
       "      <th>10</th>\n",
       "      <td>UG</td>\n",
       "      <td>POLYGON ((3329705.238 -164422.844, 3326843.733...</td>\n",
       "      <td>2.433766e+11</td>\n",
       "      <td>POINT (3605806.944 142664.957)</td>\n",
       "      <td>4.570570e+05</td>\n",
       "    </tr>\n",
       "    <tr>\n",
       "      <th>6</th>\n",
       "      <td>CD</td>\n",
       "      <td>POLYGON ((3033359.353 -1322343.844, 3030191.38...</td>\n",
       "      <td>2.364220e+12</td>\n",
       "      <td>POINT (2634266.553 -323921.334)</td>\n",
       "      <td>7.043966e+05</td>\n",
       "    </tr>\n",
       "    <tr>\n",
       "      <th>3</th>\n",
       "      <td>TZ</td>\n",
       "      <td>MULTIPOLYGON (((4381074.905 -1242490.884, 4368...</td>\n",
       "      <td>9.597807e+11</td>\n",
       "      <td>POINT (3877290.265 -701264.946)</td>\n",
       "      <td>7.258981e+05</td>\n",
       "    </tr>\n",
       "    <tr>\n",
       "      <th>11</th>\n",
       "      <td>KE</td>\n",
       "      <td>MULTIPOLYGON (((4365872.429 -521084.298, 42062...</td>\n",
       "      <td>5.908059e+11</td>\n",
       "      <td>POINT (4212958.685 61792.120)</td>\n",
       "      <td>9.263940e+05</td>\n",
       "    </tr>\n",
       "    <tr>\n",
       "      <th>4</th>\n",
       "      <td>SS</td>\n",
       "      <td>POLYGON ((3316840.461 488534.902, 3317990.839 ...</td>\n",
       "      <td>6.432377e+11</td>\n",
       "      <td>POINT (3375206.183 814705.561)</td>\n",
       "      <td>1.038461e+06</td>\n",
       "    </tr>\n",
       "    <tr>\n",
       "      <th>2</th>\n",
       "      <td>ET</td>\n",
       "      <td>POLYGON ((4278808.955 401154.512, 4251119.642 ...</td>\n",
       "      <td>1.164816e+12</td>\n",
       "      <td>POINT (4410402.754 967675.452)</td>\n",
       "      <td>1.606739e+06</td>\n",
       "    </tr>\n",
       "    <tr>\n",
       "      <th>5</th>\n",
       "      <td>SO</td>\n",
       "      <td>POLYGON ((4564577.685 -91683.441, 4564156.450 ...</td>\n",
       "      <td>6.475513e+11</td>\n",
       "      <td>POINT (5107411.094 680504.321)</td>\n",
       "      <td>1.992569e+06</td>\n",
       "    </tr>\n",
       "    <tr>\n",
       "      <th>8</th>\n",
       "      <td>SD</td>\n",
       "      <td>POLYGON ((2699793.845 973547.547, 2694586.148 ...</td>\n",
       "      <td>2.046145e+12</td>\n",
       "      <td>POINT (3342196.368 1820749.565)</td>\n",
       "      <td>2.043608e+06</td>\n",
       "    </tr>\n",
       "    <tr>\n",
       "      <th>9</th>\n",
       "      <td>DJ</td>\n",
       "      <td>POLYGON ((4815527.662 1284405.731, 4779947.844...</td>\n",
       "      <td>2.346156e+10</td>\n",
       "      <td>POINT (4738205.762 1314824.717)</td>\n",
       "      <td>2.084122e+06</td>\n",
       "    </tr>\n",
       "    <tr>\n",
       "      <th>12</th>\n",
       "      <td>EG</td>\n",
       "      <td>POLYGON ((3736336.629 2478586.661, 3692078.751...</td>\n",
       "      <td>1.238516e+12</td>\n",
       "      <td>POINT (3314831.152 3081874.904)</td>\n",
       "      <td>3.304746e+06</td>\n",
       "    </tr>\n",
       "    <tr>\n",
       "      <th>7</th>\n",
       "      <td>LY</td>\n",
       "      <td>POLYGON ((2429494.253 2348185.396, 2084577.896...</td>\n",
       "      <td>2.052740e+12</td>\n",
       "      <td>POINT (2004142.725 3144011.805)</td>\n",
       "      <td>3.618999e+06</td>\n",
       "    </tr>\n",
       "  </tbody>\n",
       "</table>\n",
       "</div>"
      ],
      "text/plain": [
       "   name                                           geometry          area  \\\n",
       "0    RW  POLYGON ((3307671.415 -313779.098, 3300471.047...  2.549226e+10   \n",
       "1    BI  POLYGON ((3347951.181 -464888.650, 3344283.903...  2.720861e+10   \n",
       "10   UG  POLYGON ((3329705.238 -164422.844, 3326843.733...  2.433766e+11   \n",
       "6    CD  POLYGON ((3033359.353 -1322343.844, 3030191.38...  2.364220e+12   \n",
       "3    TZ  MULTIPOLYGON (((4381074.905 -1242490.884, 4368...  9.597807e+11   \n",
       "11   KE  MULTIPOLYGON (((4365872.429 -521084.298, 42062...  5.908059e+11   \n",
       "4    SS  POLYGON ((3316840.461 488534.902, 3317990.839 ...  6.432377e+11   \n",
       "2    ET  POLYGON ((4278808.955 401154.512, 4251119.642 ...  1.164816e+12   \n",
       "5    SO  POLYGON ((4564577.685 -91683.441, 4564156.450 ...  6.475513e+11   \n",
       "8    SD  POLYGON ((2699793.845 973547.547, 2694586.148 ...  2.046145e+12   \n",
       "9    DJ  POLYGON ((4815527.662 1284405.731, 4779947.844...  2.346156e+10   \n",
       "12   EG  POLYGON ((3736336.629 2478586.661, 3692078.751...  1.238516e+12   \n",
       "7    LY  POLYGON ((2429494.253 2348185.396, 2084577.896...  2.052740e+12   \n",
       "\n",
       "                           centroid      distance  \n",
       "0   POINT (3331371.259 -222829.414)  0.000000e+00  \n",
       "1   POINT (3327253.961 -375160.842)  1.523871e+05  \n",
       "10   POINT (3605806.944 142664.957)  4.570570e+05  \n",
       "6   POINT (2634266.553 -323921.334)  7.043966e+05  \n",
       "3   POINT (3877290.265 -701264.946)  7.258981e+05  \n",
       "11    POINT (4212958.685 61792.120)  9.263940e+05  \n",
       "4    POINT (3375206.183 814705.561)  1.038461e+06  \n",
       "2    POINT (4410402.754 967675.452)  1.606739e+06  \n",
       "5    POINT (5107411.094 680504.321)  1.992569e+06  \n",
       "8   POINT (3342196.368 1820749.565)  2.043608e+06  \n",
       "9   POINT (4738205.762 1314824.717)  2.084122e+06  \n",
       "12  POINT (3314831.152 3081874.904)  3.304746e+06  \n",
       "7   POINT (2004142.725 3144011.805)  3.618999e+06  "
      ]
     },
     "execution_count": 51,
     "metadata": {},
     "output_type": "execute_result"
    }
   ],
   "source": [
    "rw_centroid = country_shapes[\"centroid\"].iloc[0]\n",
    "country_shapes[\"distance\"] = country_shapes[\"centroid\"].distance(rw_centroid)\n",
    "country_shapes.sort_values(by=[\"distance\"])"
   ]
  },
  {
   "cell_type": "markdown",
   "id": "188edb6d-3c8e-44f6-94aa-6cfa05cd103d",
   "metadata": {},
   "source": [
    "### Additional source of geospatial data"
   ]
  },
  {
   "cell_type": "markdown",
   "id": "a8a49f55-acef-4129-8320-0034ced5af90",
   "metadata": {},
   "source": [
    "The package `geodatasets` offers ready-to-use geospatial datasets. The package can be installed with the command"
   ]
  },
  {
   "cell_type": "code",
   "execution_count": 2,
   "id": "74666c1b",
   "metadata": {},
   "outputs": [
    {
     "name": "stdout",
     "output_type": "stream",
     "text": [
      "Collecting geodatasets\n",
      "  Using cached geodatasets-2024.7.0-py3-none-any.whl.metadata (5.4 kB)\n",
      "Collecting pooch (from geodatasets)\n",
      "  Using cached pooch-1.8.2-py3-none-any.whl.metadata (10 kB)\n",
      "Requirement already satisfied: platformdirs>=2.5.0 in /opt/anaconda3/envs/pypsa-earth/lib/python3.10/site-packages (from pooch->geodatasets) (4.2.2)\n",
      "Requirement already satisfied: packaging>=20.0 in /opt/anaconda3/envs/pypsa-earth/lib/python3.10/site-packages (from pooch->geodatasets) (24.1)\n",
      "Requirement already satisfied: requests>=2.19.0 in /opt/anaconda3/envs/pypsa-earth/lib/python3.10/site-packages (from pooch->geodatasets) (2.32.3)\n",
      "Requirement already satisfied: charset-normalizer<4,>=2 in /opt/anaconda3/envs/pypsa-earth/lib/python3.10/site-packages (from requests>=2.19.0->pooch->geodatasets) (3.3.2)\n",
      "Requirement already satisfied: idna<4,>=2.5 in /opt/anaconda3/envs/pypsa-earth/lib/python3.10/site-packages (from requests>=2.19.0->pooch->geodatasets) (3.7)\n",
      "Requirement already satisfied: urllib3<3,>=1.21.1 in /opt/anaconda3/envs/pypsa-earth/lib/python3.10/site-packages (from requests>=2.19.0->pooch->geodatasets) (2.2.2)\n",
      "Requirement already satisfied: certifi>=2017.4.17 in /opt/anaconda3/envs/pypsa-earth/lib/python3.10/site-packages (from requests>=2.19.0->pooch->geodatasets) (2024.6.2)\n",
      "Using cached geodatasets-2024.7.0-py3-none-any.whl (19 kB)\n",
      "Using cached pooch-1.8.2-py3-none-any.whl (64 kB)\n",
      "Installing collected packages: pooch, geodatasets\n",
      "Successfully installed geodatasets-2024.7.0 pooch-1.8.2\n"
     ]
    }
   ],
   "source": [
    "!pip install geodatasets"
   ]
  },
  {
   "cell_type": "markdown",
   "id": "25f221c8-6fca-47b2-9931-13de713802aa",
   "metadata": {},
   "source": [
    "and imported with the command"
   ]
  },
  {
   "cell_type": "code",
   "execution_count": 56,
   "id": "178dbc58",
   "metadata": {},
   "outputs": [],
   "source": [
    "import geodatasets as gds"
   ]
  },
  {
   "cell_type": "markdown",
   "id": "665343f4-08c4-44af-a3ce-ebc510c9d1c2",
   "metadata": {},
   "source": [
    "A dataset (for example the one from Nepal) can be accessed with the snippet below"
   ]
  },
  {
   "cell_type": "code",
   "execution_count": 57,
   "id": "bb9a43dd",
   "metadata": {},
   "outputs": [
    {
     "data": {
      "text/html": [
       "<div>\n",
       "<style scoped>\n",
       "    .dataframe tbody tr th:only-of-type {\n",
       "        vertical-align: middle;\n",
       "    }\n",
       "\n",
       "    .dataframe tbody tr th {\n",
       "        vertical-align: top;\n",
       "    }\n",
       "\n",
       "    .dataframe thead th {\n",
       "        text-align: right;\n",
       "    }\n",
       "</style>\n",
       "<table border=\"1\" class=\"dataframe\">\n",
       "  <thead>\n",
       "    <tr style=\"text-align: right;\">\n",
       "      <th></th>\n",
       "      <th>id</th>\n",
       "      <th>name_1</th>\n",
       "      <th>name_2</th>\n",
       "      <th>district</th>\n",
       "      <th>depecprov</th>\n",
       "      <th>povindex</th>\n",
       "      <th>pcinc</th>\n",
       "      <th>pcincppp</th>\n",
       "      <th>pcincmp</th>\n",
       "      <th>malkids</th>\n",
       "      <th>...</th>\n",
       "      <th>HEALTDAMT</th>\n",
       "      <th>HUMDAMT</th>\n",
       "      <th>INDDAMT</th>\n",
       "      <th>MULTDAMT</th>\n",
       "      <th>SOCDAMT</th>\n",
       "      <th>TOURDAMT</th>\n",
       "      <th>TRANDAMT</th>\n",
       "      <th>WATDAMT</th>\n",
       "      <th>TOTDAMT</th>\n",
       "      <th>geometry</th>\n",
       "    </tr>\n",
       "  </thead>\n",
       "  <tbody>\n",
       "    <tr>\n",
       "      <th>0</th>\n",
       "      <td>1</td>\n",
       "      <td>None</td>\n",
       "      <td>Dhaualagiri</td>\n",
       "      <td>Baglung</td>\n",
       "      <td>27.01</td>\n",
       "      <td>27.33</td>\n",
       "      <td>354</td>\n",
       "      <td>573</td>\n",
       "      <td>25613</td>\n",
       "      <td>42.9</td>\n",
       "      <td>...</td>\n",
       "      <td>3584409</td>\n",
       "      <td>172736</td>\n",
       "      <td>369324</td>\n",
       "      <td>8050858</td>\n",
       "      <td>1308661</td>\n",
       "      <td>0</td>\n",
       "      <td>15421</td>\n",
       "      <td>1996315</td>\n",
       "      <td>32542286</td>\n",
       "      <td>POLYGON ((83.10834 28.62020, 83.10560 28.60976...</td>\n",
       "    </tr>\n",
       "    <tr>\n",
       "      <th>1</th>\n",
       "      <td>2</td>\n",
       "      <td>None</td>\n",
       "      <td>Dhaualagiri</td>\n",
       "      <td>Mustang</td>\n",
       "      <td>31.51</td>\n",
       "      <td>31.16</td>\n",
       "      <td>1189</td>\n",
       "      <td>1922</td>\n",
       "      <td>85957</td>\n",
       "      <td>54.7</td>\n",
       "      <td>...</td>\n",
       "      <td>2253911</td>\n",
       "      <td>172736</td>\n",
       "      <td>0</td>\n",
       "      <td>3712798</td>\n",
       "      <td>633763</td>\n",
       "      <td>0</td>\n",
       "      <td>15421</td>\n",
       "      <td>0</td>\n",
       "      <td>14427364</td>\n",
       "      <td>POLYGON ((83.99726 29.31675, 84.00000 29.31576...</td>\n",
       "    </tr>\n",
       "  </tbody>\n",
       "</table>\n",
       "<p>2 rows × 62 columns</p>\n",
       "</div>"
      ],
      "text/plain": [
       "   id name_1       name_2 district  depecprov  povindex  pcinc  pcincppp  \\\n",
       "0   1   None  Dhaualagiri  Baglung      27.01     27.33    354       573   \n",
       "1   2   None  Dhaualagiri  Mustang      31.51     31.16   1189      1922   \n",
       "\n",
       "   pcincmp  malkids  ...  HEALTDAMT  HUMDAMT  INDDAMT  MULTDAMT  SOCDAMT  \\\n",
       "0    25613     42.9  ...    3584409   172736   369324   8050858  1308661   \n",
       "1    85957     54.7  ...    2253911   172736        0   3712798   633763   \n",
       "\n",
       "   TOURDAMT  TRANDAMT  WATDAMT   TOTDAMT  \\\n",
       "0         0     15421  1996315  32542286   \n",
       "1         0     15421        0  14427364   \n",
       "\n",
       "                                            geometry  \n",
       "0  POLYGON ((83.10834 28.62020, 83.10560 28.60976...  \n",
       "1  POLYGON ((83.99726 29.31675, 84.00000 29.31576...  \n",
       "\n",
       "[2 rows x 62 columns]"
      ]
     },
     "execution_count": 57,
     "metadata": {},
     "output_type": "execute_result"
    }
   ],
   "source": [
    "path_to_data = gds.get_path(\"geoda nepal\")\n",
    "gdf_nepal = gpd.read_file(path_to_data)\n",
    "gdf_nepal.head(2)"
   ]
  },
  {
   "cell_type": "code",
   "execution_count": null,
   "id": "4d4f4271-58d7-4fef-aac8-fe3f6a4f6d01",
   "metadata": {},
   "outputs": [],
   "source": [
    "gdf_nepal = gdf_nepal.set_index(\"district\")\n",
    "gdf_nepal = gdf_nepal.to_crs(3857)"
   ]
  },
  {
   "cell_type": "markdown",
   "id": "73d336c4-7003-4098-8afa-794128b13df8",
   "metadata": {},
   "source": [
    "## Exercises\n",
    "---"
   ]
  },
  {
   "cell_type": "markdown",
   "id": "7bebc0d8-4ac2-4db9-960b-7a1fe07814e4",
   "metadata": {},
   "source": [
    "**Exercise 1** - write a program that computes the area of the districts of Nepal. Plot the results afterwards."
   ]
  },
  {
   "cell_type": "code",
   "execution_count": 62,
   "id": "c858afbd",
   "metadata": {},
   "outputs": [],
   "source": [
    "# please provide your code here"
   ]
  },
  {
   "cell_type": "code",
   "execution_count": 62,
   "id": "5ab5596c",
   "metadata": {},
   "outputs": [],
   "source": [
    "# please provide your code here"
   ]
  },
  {
   "cell_type": "markdown",
   "id": "7f7cb75c-4697-4fea-94a7-a4a1d3ea272b",
   "metadata": {},
   "source": [
    "**Exercise 2** - write a program that computes the centroid of the districts of Nepal. Plot the results afterwards."
   ]
  },
  {
   "cell_type": "code",
   "execution_count": 63,
   "id": "2f85b38a",
   "metadata": {},
   "outputs": [],
   "source": [
    "# please provide your code here"
   ]
  },
  {
   "cell_type": "code",
   "execution_count": 62,
   "id": "441b5563",
   "metadata": {},
   "outputs": [],
   "source": [
    "# please provide your code here"
   ]
  },
  {
   "cell_type": "markdown",
   "id": "d59adc2f-00b7-4ef4-b9fa-6fc9f5bf2e97",
   "metadata": {},
   "source": [
    "**Exercise 3** - write a program that computes the distances of the centroids from a reference centroid (choose one)."
   ]
  },
  {
   "cell_type": "code",
   "execution_count": 62,
   "id": "7e7e1bd0",
   "metadata": {},
   "outputs": [],
   "source": [
    "# please provide your code here"
   ]
  }
 ],
 "metadata": {
  "kernelspec": {
   "display_name": "Python 3 (ipykernel)",
   "language": "python",
   "name": "python3"
  },
  "language_info": {
   "codemirror_mode": {
    "name": "ipython",
    "version": 3
   },
   "file_extension": ".py",
   "mimetype": "text/x-python",
   "name": "python",
   "nbconvert_exporter": "python",
   "pygments_lexer": "ipython3",
   "version": "3.10.14"
  }
 },
 "nbformat": 4,
 "nbformat_minor": 5
}
